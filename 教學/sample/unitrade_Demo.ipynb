{
  "nbformat": 4,
  "nbformat_minor": 0,
  "metadata": {
    "colab": {
      "provenance": [],
      "include_colab_link": true
    },
    "kernelspec": {
      "name": "python3",
      "display_name": "Python 3"
    },
    "language_info": {
      "name": "python"
    }
  },
  "cells": [
    {
      "cell_type": "markdown",
      "metadata": {
        "id": "view-in-github",
        "colab_type": "text"
      },
      "source": [
        "<a href=\"https://colab.research.google.com/github/mcyang/unitrade/blob/main/%E6%95%99%E5%AD%B8/sample/unitrade_Demo.ipynb\" target=\"_parent\"><img src=\"https://colab.research.google.com/assets/colab-badge.svg\" alt=\"Open In Colab\"/></a>"
      ]
    },
    {
      "cell_type": "markdown",
      "source": [
        "# 統一期貨unitradeAPI測試流程"
      ],
      "metadata": {
        "id": "3iAlj31Epl30"
      }
    },
    {
      "cell_type": "markdown",
      "source": [
        "# 事前準備\n",
        "\n",
        "1.   完成開立統一期貨帳號，若未開戶請先進行開戶作業，開戶請見[統一期貨官網說明](https://www.pfcf.com.tw/eventweb/online/)\n",
        "2.   完成新戶密碼開通，並取得電腦憑證，若無電腦憑證請至[憑證e總管](https://www.pscnet.com.tw/upload/pscnet/file/20230524094136409887.exe)申請\n",
        "3. 向營業員申請統一API開通測試，並取得測試通知Mail\n",
        "4. 將電腦憑證檔案上傳至Colab(點選左邊檔案icon，拖曳憑證檔案至網頁完成上傳)\n",
        "\n",
        "  Tips:若找不到憑證，預設存放路徑為C:\\User\\使用者名稱\\PSCCA\\PSC_您的ID_到期日.pfx\n",
        "\n",
        "---\n",
        "\n",
        "\n",
        "# 注意事項\n",
        "\n",
        "*   該項API申請會同步開通C#、VBA、Python版本(本份文件以Python版本撰寫)\n",
        "*   客戶需自行操作Colab並理解程式碼，不可委由他人或營業員操作\n",
        "*   完整Python API操作說明請點[unitradeAPI官方網站](https://pfcec.github.io/unitrade/)\n",
        "*   須完成測試委託一筆，顯示「委託成功」即可，不用成交(測試環境也不會成交)\n",
        "*   「委託成功」完成後，請通知您的營業員，後續等待正式統一API開通信即可\n",
        "*   本份文件預設連線為「測試伺服器」若自行更改連線伺服器，須自行承擔交易內容\n"
      ],
      "metadata": {
        "id": "Vsx4F3rIpNEM"
      }
    },
    {
      "cell_type": "markdown",
      "source": [
        "# 輸入您的帳戶資料"
      ],
      "metadata": {
        "id": "v9vdl3D7yoEt"
      }
    },
    {
      "cell_type": "code",
      "source": [
        "# 按 Shift + Enter 執行程式碼 或 按左邊按鈕執行程式碼\n",
        "\n",
        "#============================================================#\n",
        "# 請輸入帳號(含分公司碼，合計共11碼) (勿刪除\"\")\n",
        "\n",
        "ACT_KEY = \"80030092310\" #\"請在此輸入帳號\"\n",
        "\n",
        "# 請輸入交易密碼(同登入密碼)\n",
        "\n",
        "PSW_KEY = \"Yoh101737\"  #\"請在此輸入密碼\"\n",
        "\n",
        "# 請輸入憑證檔名\n",
        "\n",
        "CA_NAME_KEY = \"PSC_R123365901_20260605.pfx\"  #\"請在此輸入憑證檔名(須包含副檔名.pfx)\"\n",
        "\n",
        "# 請輸入憑證密碼(非交易密碼，若未設定密碼，則刪除中文字即可)\n",
        "\n",
        "CA_PSW_KEY = \"R123365901\" #\"請在此輸入憑證密碼\"\n",
        "#============================================================#"
      ],
      "metadata": {
        "id": "CzQqUB9TyuON"
      },
      "execution_count": 21,
      "outputs": []
    },
    {
      "cell_type": "markdown",
      "source": [
        "\n",
        "# 安裝套件"
      ],
      "metadata": {
        "id": "D8o5Sf9jyHYl"
      }
    },
    {
      "cell_type": "code",
      "execution_count": null,
      "metadata": {
        "id": "p8dLSeLi1HTZ"
      },
      "outputs": [],
      "source": [
        "!pip install pandas\n",
        "!pip install unitrade"
      ]
    },
    {
      "cell_type": "markdown",
      "source": [
        "# 初始化設定"
      ],
      "metadata": {
        "id": "4DuK6Z7s1m7N"
      }
    },
    {
      "cell_type": "code",
      "source": [
        "import unitrade\n",
        "import pandas as pd\n",
        "from unitrade.unitrade import *\n",
        "from typing import List\n",
        "from IPython.display import display,clear_output\n",
        "\n",
        "#初始化API\n",
        "api = Unitrade()\n",
        "\n",
        "#匯入顯示資料套件\n",
        "pd.set_option('display.max_columns', None)\n",
        "pd.set_option('display.max_rows', None)\n",
        "pd.set_option('display.width', None)\n",
        "\n",
        "#初始資料\n",
        "reply_data = [ ['','','','','','','','','','','','','','','','','','','','','']]\n",
        "reply_dd = pd.DataFrame(reply_data)\n",
        "reply_dd.columns=['分公司','帳號','網路流水序號','委託時間','委託書號','子帳',\n",
        "            '商品類別','商品代碼','買賣別','價格別','委託價格','委託數量','未成交數量',\n",
        "            '成交數量','刪除數量','下單方式','開倉別','異動時間','委託狀態','委託狀態碼','下單序號']\n",
        "match_data = [ ['','','','','','','','','','','','','','','','']]\n",
        "match_dd = pd.DataFrame(match_data)\n",
        "match_dd.columns=['分公司','帳號','網路流水序號','成交時間','委託書號','子帳',\n",
        "            '商品類別','商品代碼','買賣別','成交價格','成交口數','成交序號',\n",
        "            '成交價1','成交價2','備註','異動時間']\n",
        "#訂閱錯誤事件回報\n",
        "api.on_error = lambda error: print(f'api錯誤 {error}')\n",
        "\n",
        "#訂閱回報並設定接收欄位\n",
        "def on_reply(orderreply: DOrderReply):\n",
        "    i=len(reply_dd)+1\n",
        "    reply_dd.loc[i, '分公司'] = orderreply.brokerid\n",
        "    reply_dd.loc[i, '帳號'] = orderreply.investoracno\n",
        "    reply_dd.loc[i, '網路流水序號'] = orderreply.networkid\n",
        "    reply_dd.loc[i, '委託時間'] = orderreply.ordertime\n",
        "    reply_dd.loc[i, '委託書號'] = orderreply.orderno\n",
        "    reply_dd.loc[i, '子帳'] = orderreply.subact\n",
        "    reply_dd.loc[i, '商品類別'] = orderreply.productkind\n",
        "    reply_dd.loc[i, '商品代碼'] = orderreply.productid\n",
        "    reply_dd.loc[i, '買賣別'] = orderreply.bs\n",
        "    reply_dd.loc[i, '價格別'] = orderreply.ordertype\n",
        "    reply_dd.loc[i, '委託價格'] = orderreply.price\n",
        "    reply_dd.loc[i, '委託數量'] = orderreply.orderqty\n",
        "    reply_dd.loc[i, '未成交數量'] = orderreply.nomatchqty\n",
        "    reply_dd.loc[i, '成交數量'] = orderreply.matchqty\n",
        "    reply_dd.loc[i, '刪除數量'] = orderreply.delqty\n",
        "    reply_dd.loc[i, '下單方式'] = orderreply.ordercondition\n",
        "    reply_dd.loc[i, '開倉別'] = orderreply.opencloseflag\n",
        "    reply_dd.loc[i, '異動時間'] = orderreply.mdate\n",
        "    reply_dd.loc[i, '委託狀態'] = orderreply.orderstatus\n",
        "    reply_dd.loc[i, '委託狀態碼'] = orderreply.statuscode\n",
        "    reply_dd.loc[i, '開倉別'] = orderreply.opencloseflag\n",
        "    reply_dd.loc[i, '下單序號'] = orderreply.seq\n",
        "    clear_output(wait=True)\n",
        "    display(reply_dd)\n",
        "    display(match_dd)\n",
        "def on_match(matchreply: DMatchReply):\n",
        "    i=len(reply_dd)+1\n",
        "    match_dd.loc[i, '分公司'] = matchreply.brokerid\n",
        "    match_dd.loc[i, '帳號'] = matchreply.investoracno\n",
        "    match_dd.loc[i, '網路流水序號'] = matchreply.networkid\n",
        "    match_dd.loc[i, '成交時間'] = matchreply.matchtime\n",
        "    match_dd.loc[i, '委託書號'] = matchreply.orderno\n",
        "    match_dd.loc[i, '子帳'] = matchreply.subact\n",
        "    match_dd.loc[i, '商品類別'] = matchreply.productkind\n",
        "    match_dd.loc[i, '商品代碼'] = matchreply.productid\n",
        "    match_dd.loc[i, '買賣別'] = matchreply.bs\n",
        "    match_dd.loc[i, '成交價格'] = matchreply.matchprice\n",
        "    match_dd.loc[i, '成交口數'] = matchreply.matchqty\n",
        "    match_dd.loc[i, '成交序號'] = matchreply.matchseq\n",
        "    match_dd.loc[i, '成交價1'] = matchreply.matchpricefoot1\n",
        "    match_dd.loc[i, '成交價2'] = matchreply.matchpricefoot2\n",
        "    match_dd.loc[i, '備註'] = matchreply.note\n",
        "    match_dd.loc[i, '異動時間'] = matchreply.mdate\n",
        "    clear_output(wait=True)\n",
        "    display(reply_dd)\n",
        "    display(match_dd)\n",
        "api.dtrade.on_reply=on_reply\n",
        "api.dtrade.on_match=on_match\n",
        "print('訂閱完畢')"
      ],
      "metadata": {
        "id": "nVyuJjXu1lz5",
        "outputId": "958da574-b895-4294-c855-e2d27dcaca57",
        "colab": {
          "base_uri": "https://localhost:8080/"
        }
      },
      "execution_count": 22,
      "outputs": [
        {
          "output_type": "stream",
          "name": "stdout",
          "text": [
            "The package version is 1.0.0.3\n",
            "訂閱完畢\n"
          ]
        }
      ]
    },
    {
      "cell_type": "markdown",
      "source": [
        "# 期貨測試下單"
      ],
      "metadata": {
        "id": "91_ns_Wh2hIt"
      }
    },
    {
      "cell_type": "code",
      "source": [
        "#系統登入\n",
        "\n",
        "# 請勿更動連結網址，確保API在測試環境運行!!!\n",
        "#======================================================================================================================#\n",
        "loginresponse = api.login(\n",
        "    \"https://test167.pfctrade.com\", ACT_KEY, PSW_KEY, CA_NAME_KEY, CA_PSW_KEY) #url,帳號,密碼,憑證檔名,憑證密碼\n",
        "\n",
        "print(\"loginresponse:\", loginresponse)\n",
        "\n",
        "actno = api.get_accounts()[0] #取得第一個交易帳號 (此為免公司碼，7碼之帳號)\n",
        "#======================================================================================================================#\n",
        "# 自行更動網址，請自負交易風險!!!\n",
        "\n",
        "#顯示登入結果\n",
        "print(loginresponse)\n",
        "print(f\"登入旗標{api.login_status_flag}\")\n",
        "print(f\"交易帳號{actno}\")\n",
        "\n",
        "#下單\n",
        "order = DOrderObject() #初始化委託\n",
        "order.actno = actno #帳號\n",
        "order.note = \"ordertest\" #備註\n",
        "order.subactno = \"\" #子帳 (若無子帳則空白)\n",
        "order.productid = \"TXFI5\" #商品代號 #預設為大台25年9月 (若契約已到期，請更改代碼，代碼請見統eVIP全球板)\n",
        "order.bs = \"B\" #買賣別B/S\n",
        "order.ordertype = \"M\" #L:限價 M:市價 P:範圍市價\n",
        "order.price = 0 #委託價格 (若市價則設定0，限價請指定價格)\n",
        "order.orderqty = 1 #數量\n",
        "order.ordercondition = \"R\" #委託種類 I:IOC R:ROD F:FOK\n",
        "order.opencloseflag = \"\" #開倉別 str 0:新倉 1:平倉 空白:自動\n",
        "order.dtrade=\"N\" # Y:當沖 N:非當沖\n",
        "orderresponse=api.dtrade.order(order) #委託送出\n",
        "print(f\" 是否成功 {orderresponse.issend} 下單序號 {orderresponse.seq} 錯誤代碼 {orderresponse.errorcode}\"\n",
        "   f\" 錯誤訊息 {orderresponse.errormsg}\")\n",
        "time.sleep(3) #等待Colab運行3秒，讓回報順利回來\n",
        "\n",
        "#系統登出\n",
        "api.logout()\n",
        "print('登出完畢')\n",
        "print(f\"登入旗標{api.login_status_flag}\")"
      ],
      "metadata": {
        "id": "zXaFNJBa2nJ3"
      },
      "execution_count": null,
      "outputs": []
    },
    {
      "cell_type": "markdown",
      "source": [
        "# 首次登入需較久時間，請耐心等候\n",
        "# 顯示「委託成功」即完成丟單測試\n",
        "# 請通知您的營業員，完成後續正式API開通"
      ],
      "metadata": {
        "id": "5xKUA9is4Xcm"
      }
    }
  ]
}